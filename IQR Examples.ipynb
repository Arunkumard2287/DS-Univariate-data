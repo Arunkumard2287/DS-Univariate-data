{
 "cells": [
  {
   "cell_type": "markdown",
   "id": "2ab913c2-941b-4628-9eb7-dee3f8be1431",
   "metadata": {},
   "source": [
    "# 1 st Examples"
   ]
  },
  {
   "cell_type": "code",
   "execution_count": 1,
   "id": "fbfa0f38-83cd-4af1-a387-871c1a02d27f",
   "metadata": {},
   "outputs": [],
   "source": [
    "import numpy as np\n",
    "import pandas as pd"
   ]
  },
  {
   "cell_type": "code",
   "execution_count": 2,
   "id": "c0dd43a5-7599-4108-8a06-7651396f949a",
   "metadata": {},
   "outputs": [],
   "source": [
    "prices = [389950, 230500, 158000, 479000, 639000, 114950, 5500000, 387000, 659000, 529000, 575000, 488800, 1095000]"
   ]
  },
  {
   "cell_type": "code",
   "execution_count": 3,
   "id": "c2170fa3-f840-494a-b073-3d72c1bdd294",
   "metadata": {},
   "outputs": [
    {
     "data": {
      "text/plain": [
       "[114950,\n",
       " 158000,\n",
       " 230500,\n",
       " 387000,\n",
       " 389950,\n",
       " 479000,\n",
       " 488800,\n",
       " 529000,\n",
       " 575000,\n",
       " 639000,\n",
       " 659000,\n",
       " 1095000,\n",
       " 5500000]"
      ]
     },
     "execution_count": 3,
     "metadata": {},
     "output_type": "execute_result"
    }
   ],
   "source": [
    "prices.sort()\n",
    "prices"
   ]
  },
  {
   "cell_type": "code",
   "execution_count": 4,
   "id": "e31fb09a-1e08-43d2-950a-89799ce7ef1c",
   "metadata": {},
   "outputs": [
    {
     "name": "stdout",
     "output_type": "stream",
     "text": [
      "Q1 (First Quartile): 387000.0\n",
      "Q2 (Second Quartile/Median): 488800.0\n",
      "Q3 (Third Quartile): 639000.0\n"
     ]
    }
   ],
   "source": [
    "# Use numpy to calculate quartiles\n",
    "q1 = np.percentile(prices, 25)\n",
    "q2 = np.percentile(prices, 50)\n",
    "q3 = np.percentile(prices, 75)\n",
    "\n",
    "print(\"Q1 (First Quartile):\", q1)\n",
    "print(\"Q2 (Second Quartile/Median):\", q2)\n",
    "print(\"Q3 (Third Quartile):\", q3)"
   ]
  },
  {
   "cell_type": "code",
   "execution_count": 5,
   "id": "0fe524e0-a57d-4e74-a6a1-d05437f89dfb",
   "metadata": {},
   "outputs": [
    {
     "name": "stdout",
     "output_type": "stream",
     "text": [
      "                Prices\n",
      "Mean     865015.384615\n",
      "Median        488800.0\n",
      "Mode            114950\n",
      "Q1:25%        387000.0\n",
      "Q2:50%        488800.0\n",
      "Q3:75%        639000.0\n",
      "99%          4971400.0\n",
      "Q4:100%      5500000.0\n"
     ]
    }
   ],
   "source": [
    "# Create a DataFrame for descriptive statistics\n",
    "descriptive = pd.DataFrame(index=['Mean', 'Median', 'Mode', 'Q1:25%', 'Q2:50%', 'Q3:75%', '99%', 'Q4:100%'], columns=['Prices'])\n",
    "\n",
    "# Calculate descriptive statistics\n",
    "descriptive['Prices']['Mean'] = np.mean(prices)\n",
    "descriptive['Prices']['Median'] = np.median(prices)\n",
    "descriptive['Prices']['Mode'] = pd.Series(prices).mode()[0]\n",
    "descriptive['Prices']['Q1:25%'] = np.percentile(prices, 25)\n",
    "descriptive['Prices']['Q2:50%'] = np.percentile(prices, 50)\n",
    "descriptive['Prices']['Q3:75%'] = np.percentile(prices, 75)\n",
    "descriptive['Prices']['99%'] = np.percentile(prices, 99)\n",
    "descriptive['Prices']['Q4:100%'] = np.percentile(prices, 100)\n",
    "\n",
    "print(descriptive)"
   ]
  },
  {
   "cell_type": "code",
   "execution_count": 6,
   "id": "030236c8-363d-4dbb-ab40-3943d8846708",
   "metadata": {},
   "outputs": [
    {
     "name": "stdout",
     "output_type": "stream",
     "text": [
      "Lower Range for Outliers: 9000.0\n",
      "Upper Range for Outliers: 1017000.0\n"
     ]
    }
   ],
   "source": [
    "q1 = np.percentile(prices, 25)\n",
    "q3 = np.percentile(prices, 75)\n",
    "\n",
    "iqr = q3 - q1\n",
    "\n",
    "# Calculate lower and upper ranges for outliers\n",
    "lower_range = q1 - 1.5 * iqr\n",
    "upper_range = q3 + 1.5 * iqr\n",
    "\n",
    "print(\"Lower Range for Outliers:\", lower_range)\n",
    "print(\"Upper Range for Outliers:\", upper_range) "
   ]
  },
  {
   "cell_type": "code",
   "execution_count": 7,
   "id": "7210eba1-7812-48e8-b423-75825b510d1a",
   "metadata": {},
   "outputs": [
    {
     "name": "stdout",
     "output_type": "stream",
     "text": [
      "Outliers found:\n",
      "[1095000, 5500000]\n"
     ]
    }
   ],
   "source": [
    "outliers = [value for value in prices if value < lower_range or value > upper_range]\n",
    "\n",
    "if outliers:\n",
    "    print(\"Outliers found:\")\n",
    "    print(outliers)\n",
    "else:\n",
    "    print(\"No outliers found.\") "
   ]
  },
  {
   "cell_type": "markdown",
   "id": "f3f506ea-997d-4ca9-975d-8f16c4cdcb12",
   "metadata": {},
   "source": [
    "# 2 nd Examples"
   ]
  },
  {
   "cell_type": "markdown",
   "id": "e324a30d-393c-4b7a-a269-5bba704e1ed3",
   "metadata": {},
   "source": [
    "a. The interquartile range. compare the two interquartile ranges.\n",
    "\n",
    "b. Any outliers in either set.\n",
    "\n",
    "The five numbers summary for the day and night classes is \n",
    "\n",
    "      minimum     Q1    Median     Q3      Max\n",
    "Day     32        56     74.5     82.5     99\n",
    "night   25.5      78      81       89      98"
   ]
  },
  {
   "cell_type": "code",
   "execution_count": 22,
   "id": "fc4492d7-2e8a-4a13-9e10-07a267ea4b69",
   "metadata": {},
   "outputs": [
    {
     "name": "stdout",
     "output_type": "stream",
     "text": [
      "Lower Range for Outliers: 16.25 \n",
      "\n",
      "Upper Range for Outliers: 122.25 \n",
      "\n",
      "No outliers found.\n"
     ]
    }
   ],
   "source": [
    "# Day\n",
    "min_max = [32,99]\n",
    "Median = 74.5\n",
    "q1 = 56\n",
    "q3 = 82.5\n",
    "\n",
    "\n",
    "iqr = q3 - q1\n",
    "\n",
    "# Calculate lower and upper ranges for outliers\n",
    "lower_range = q1 - 1.5 * iqr\n",
    "upper_range = q3 + 1.5 * iqr\n",
    "\n",
    "print(\"Lower Range for Outliers:\", lower_range,'\\n')\n",
    "print(\"Upper Range for Outliers:\", upper_range,'\\n') \n",
    "\n",
    "# Check for outliers\n",
    "outliers = [value for value in min_max if value < lower_range or value > upper_range]\n",
    "\n",
    "if outliers:\n",
    "    print(\"Outliers found:\",outliers)\n",
    "else:\n",
    "    print(\"No outliers found.\") "
   ]
  },
  {
   "cell_type": "code",
   "execution_count": 23,
   "id": "dd838e21-a1dd-4279-bbe7-0523e4e6f6fb",
   "metadata": {},
   "outputs": [
    {
     "name": "stdout",
     "output_type": "stream",
     "text": [
      "Lower Range for Outliers: 61.5 \n",
      "\n",
      "Upper Range for Outliers: 105.5 \n",
      "\n",
      "Outliers found: [25.5]\n"
     ]
    }
   ],
   "source": [
    "# Night \n",
    "min_max = [25.5, 98]\n",
    "Median = 81\n",
    "q1 = 78\n",
    "q3 = 89\n",
    "\n",
    "iqr = q3 - q1\n",
    "\n",
    "# Calculate lower and upper ranges for outliers\n",
    "lower_range = q1 - 1.5 * iqr\n",
    "upper_range = q3 + 1.5 * iqr\n",
    "\n",
    "print(\"Lower Range for Outliers:\", lower_range,'\\n')\n",
    "print(\"Upper Range for Outliers:\", upper_range,'\\n') \n",
    "\n",
    "# Check for outliers\n",
    "outliers = [value for value in min_max if value < lower_range or value > upper_range]\n",
    "\n",
    "if outliers:\n",
    "    print(\"Outliers found:\", outliers)\n",
    "else:\n",
    "    print(\"No outliers found.\")"
   ]
  },
  {
   "cell_type": "code",
   "execution_count": null,
   "id": "ea0f0863-b0ff-4d2a-87b5-fe78068ae2e5",
   "metadata": {},
   "outputs": [],
   "source": []
  }
 ],
 "metadata": {
  "kernelspec": {
   "display_name": "Python 3 (ipykernel)",
   "language": "python",
   "name": "python3"
  },
  "language_info": {
   "codemirror_mode": {
    "name": "ipython",
    "version": 3
   },
   "file_extension": ".py",
   "mimetype": "text/x-python",
   "name": "python",
   "nbconvert_exporter": "python",
   "pygments_lexer": "ipython3",
   "version": "3.11.5"
  }
 },
 "nbformat": 4,
 "nbformat_minor": 5
}
